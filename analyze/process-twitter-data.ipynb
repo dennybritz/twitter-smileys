{
 "cells": [
  {
   "cell_type": "code",
   "execution_count": 257,
   "metadata": {
    "collapsed": false
   },
   "outputs": [],
   "source": [
    "import matplotlib.pyplot as plt\n",
    "import csv\n",
    "import pandas as pd\n",
    "import itertools\n",
    "import numpy as np\n",
    "import random\n",
    "import re\n",
    "from collections import Counter\n",
    "\n",
    "%matplotlib inline"
   ]
  },
  {
   "cell_type": "code",
   "execution_count": 262,
   "metadata": {
    "collapsed": true
   },
   "outputs": [],
   "source": [
    "POSITIVE = ['(^_^)', '(^o^)', '(^^)', '(^-^)', '（●＾o＾●）', '（＾◇＾）', '(*^_^*)', '(*´ｰ`)', '(*´∀｀*)', '(*´ω｀*)', '(*´艸｀*)', '(/ω＼)', '(^_^)V', '(^o^)V', 'ヽ(=´▽`=)ﾉ', 'o(^o^)o', '＼(^_^ )( ^_^)／', 'σ(^_^)', 'σ(´∀｀)', '!(^^)!', '(^^ゞ', '(^Q^)/', '(^^ゝ', '(^人^)', '(^_-)-☆', '(^з^)-☆', '(￣ー￣)ｂ', 'p(^^)q', '(-o-)y-~~~', '(^_^)y-~~~', 'φ(^o^)', '( ^_^)／□☆□＼(^_^ )', '( ^_^)／ o(^o^)o ＼(^_^ )', '(／＼) ＼(^o^)／', '(^_^)/~~~']\n",
    "NEGATIVE = ['(# ﾟДﾟ)', '(゜_゜)', '(`_`)ノ゛', '(^-^;', '(-_-;)', '(=_=;)', '(ﾉ´Д`)', '(-o-;)', '(^^;)', '(^_^;)', '(^o^;)', '...(((;^^)', '(+_+)', '(o-_-o)', 'ヽ(#ﾟДﾟ)ﾉ', '(-_-メ)', '(ーー゛)', '(-’’-)', '(｀´）', 'ヽ(#｀Д´#)ﾉ', '(￣へ￣井)', '(-ε´-。)', '(￣д￣)', '( ´Д｀)', '(ﾉ´□｀)ﾉ', 'ヽ(*´Д｀*)ﾉ', '┐(´～`；)┌', '(#´Д｀#)', '(*_*)', '( -_-)', '｜(-_-)｜', '(;_;)', '(T_T)', '(/_;)', '(ﾉдヽ)', '(TдT)', '(ﾉ´□｀)', 'ヽ(;´Д`)ノ', '(ｏ´_｀ｏ)', 'm(_ _)m', '＼(__ )', '(>_<)', '(+д+)', '（￣□￣；）', '(lll￣□￣)', '(@_@)', '(＠_＠;)']"
   ]
  },
  {
   "cell_type": "code",
   "execution_count": 263,
   "metadata": {
    "collapsed": false
   },
   "outputs": [],
   "source": [
    "# Create data frame for smileys\n",
    "smiley_df = pd.DataFrame.from_records(\n",
    "    [[x, 'positive'] for x in POSITIVE] + [[x, 'negative'] for x in NEGATIVE],\n",
    "    columns=['keyword', 'sentiment'])\n",
    "smiley_df = smiley_df.drop_duplicates()"
   ]
  },
  {
   "cell_type": "code",
   "execution_count": 282,
   "metadata": {
    "collapsed": false
   },
   "outputs": [],
   "source": [
    "MIN_TEXT_LENGTH = 80\n",
    "\n",
    "# Load the data\n",
    "data = pd.read_csv('../data/data.csv', names=['keyword', 'text'])\n",
    "# Preprocessing: Remove hashtags, URLs and user mentions\n",
    "data.text = data.text.str.replace('#\\S+', '<HASHTAG> ', case=False)\n",
    "data.text = data.text.str.replace('https?://\\S+', '<URL> ', case=False)\n",
    "data.text = data.text.str.replace('@\\S+', '<USER> ', case=False)\n",
    "# Only consider tweets of certain length\n",
    "data = data[data['text'].map(lambda x: len(x) > MIN_TEXT_LENGTH)]\n",
    "# Remove all smileys\n",
    "for smiley in POSITIVE + NEGATIVE:\n",
    "    data.text = data.text.str.replace(re.escape(smiley), '<SMILEY> ', case=False)\n",
    "# Join data with positive/negative sentiment\n",
    "data = pd.merge(data, smiley_df, on='keyword')\n",
    "data = data.drop_duplicates()\n",
    "data = data[['keyword', 'sentiment', 'text']]"
   ]
  },
  {
   "cell_type": "code",
   "execution_count": 283,
   "metadata": {
    "collapsed": false
   },
   "outputs": [
    {
     "data": {
      "text/html": [
       "<div>\n",
       "<table border=\"1\" class=\"dataframe\">\n",
       "  <thead>\n",
       "    <tr style=\"text-align: right;\">\n",
       "      <th></th>\n",
       "      <th>keyword</th>\n",
       "      <th>sentiment</th>\n",
       "      <th>text</th>\n",
       "    </tr>\n",
       "  </thead>\n",
       "  <tbody>\n",
       "    <tr>\n",
       "      <th>count</th>\n",
       "      <td>601</td>\n",
       "      <td>601</td>\n",
       "      <td>601</td>\n",
       "    </tr>\n",
       "    <tr>\n",
       "      <th>unique</th>\n",
       "      <td>28</td>\n",
       "      <td>2</td>\n",
       "      <td>601</td>\n",
       "    </tr>\n",
       "    <tr>\n",
       "      <th>top</th>\n",
       "      <td>(^o^)</td>\n",
       "      <td>positive</td>\n",
       "      <td>┗&lt;SMILEY&gt; ┛イタ電するぞぉぉぉｗｗ( ^o^)☎┐もしもしｗｗｗｗｗｗｗｗ &lt;US...</td>\n",
       "    </tr>\n",
       "    <tr>\n",
       "      <th>freq</th>\n",
       "      <td>186</td>\n",
       "      <td>483</td>\n",
       "      <td>1</td>\n",
       "    </tr>\n",
       "  </tbody>\n",
       "</table>\n",
       "</div>"
      ],
      "text/plain": [
       "       keyword sentiment                                               text\n",
       "count      601       601                                                601\n",
       "unique      28         2                                                601\n",
       "top      (^o^)  positive  ┗<SMILEY> ┛イタ電するぞぉぉぉｗｗ( ^o^)☎┐もしもしｗｗｗｗｗｗｗｗ <US...\n",
       "freq       186       483                                                  1"
      ]
     },
     "execution_count": 283,
     "metadata": {},
     "output_type": "execute_result"
    }
   ],
   "source": [
    "data.describe()"
   ]
  },
  {
   "cell_type": "code",
   "execution_count": 284,
   "metadata": {
    "collapsed": false
   },
   "outputs": [
    {
     "data": {
      "text/plain": [
       "<matplotlib.axes._subplots.AxesSubplot at 0x10ce0ad68>"
      ]
     },
     "execution_count": 284,
     "metadata": {},
     "output_type": "execute_result"
    },
    {
     "data": {
      "image/png": "[encoded data removed]",
      "text/plain": [
       "<matplotlib.figure.Figure at 0x10c869400>"
      ]
     },
     "metadata": {},
     "output_type": "display_data"
    }
   ],
   "source": [
    "data.sentiment.value_counts().plot(kind='pie', figsize=(6,6), table=True)"
   ]
  },
  {
   "cell_type": "code",
   "execution_count": 285,
   "metadata": {
    "collapsed": false
   },
   "outputs": [],
   "source": [
    "# Subsample values from each smiley for manual checking\n",
    "K = 10\n",
    "filtered_data = data.groupby('keyword').filter(lambda x: len(x) > K)\n",
    "indices = itertools.chain(*[np.random.choice(v, K, replace=False) for k, v in  filtered_data.groupby('keyword').groups.items()])\n",
    "subsampled_data = data.reindex(indices)"
   ]
  },
  {
   "cell_type": "code",
   "execution_count": 286,
   "metadata": {
    "collapsed": false
   },
   "outputs": [
    {
     "data": {
      "text/html": [
       "<div>\n",
       "<table border=\"1\" class=\"dataframe\">\n",
       "  <thead>\n",
       "    <tr style=\"text-align: right;\">\n",
       "      <th></th>\n",
       "      <th>keyword</th>\n",
       "      <th>sentiment</th>\n",
       "      <th>text</th>\n",
       "    </tr>\n",
       "  </thead>\n",
       "  <tbody>\n",
       "    <tr>\n",
       "      <th>count</th>\n",
       "      <td>110</td>\n",
       "      <td>110</td>\n",
       "      <td>110</td>\n",
       "    </tr>\n",
       "    <tr>\n",
       "      <th>unique</th>\n",
       "      <td>11</td>\n",
       "      <td>2</td>\n",
       "      <td>110</td>\n",
       "    </tr>\n",
       "    <tr>\n",
       "      <th>top</th>\n",
       "      <td>(^-^)</td>\n",
       "      <td>positive</td>\n",
       "      <td>【ちぃ汰】 夜もすがら君想ふ 【元気に踊ってみた】 (4:02) &lt;URL&gt;  &lt;HASHT...</td>\n",
       "    </tr>\n",
       "    <tr>\n",
       "      <th>freq</th>\n",
       "      <td>10</td>\n",
       "      <td>70</td>\n",
       "      <td>1</td>\n",
       "    </tr>\n",
       "  </tbody>\n",
       "</table>\n",
       "</div>"
      ],
      "text/plain": [
       "       keyword sentiment                                               text\n",
       "count      110       110                                                110\n",
       "unique      11         2                                                110\n",
       "top      (^-^)  positive  【ちぃ汰】 夜もすがら君想ふ 【元気に踊ってみた】 (4:02) <URL>  <HASHT...\n",
       "freq        10        70                                                  1"
      ]
     },
     "execution_count": 286,
     "metadata": {},
     "output_type": "execute_result"
    }
   ],
   "source": [
    "subsampled_data.describe()"
   ]
  },
  {
   "cell_type": "code",
   "execution_count": 287,
   "metadata": {
    "collapsed": false
   },
   "outputs": [
    {
     "data": {
      "text/plain": [
       "<matplotlib.axes._subplots.AxesSubplot at 0x10d12a860>"
      ]
     },
     "execution_count": 287,
     "metadata": {},
     "output_type": "execute_result"
    },
    {
     "data": {
      "image/png": "[encoded data removed]",
      "text/plain": [
       "<matplotlib.figure.Figure at 0x10cbad470>"
      ]
     },
     "metadata": {},
     "output_type": "display_data"
    }
   ],
   "source": [
    "# Show positive vs. negative smiley distribution\n",
    "subsampled_data.sentiment.value_counts().plot(kind='pie', figsize=(6,6), table=True)"
   ]
  },
  {
   "cell_type": "code",
   "execution_count": 288,
   "metadata": {
    "collapsed": true
   },
   "outputs": [],
   "source": [
    "# Write to csv file\n",
    "subsampled_data.to_csv(\"../data/samples.csv\")"
   ]
  },
  {
   "cell_type": "code",
   "execution_count": null,
   "metadata": {
    "collapsed": true
   },
   "outputs": [],
   "source": []
  }
 ],
 "metadata": {
  "kernelspec": {
   "display_name": "Python 3",
   "language": "python",
   "name": "python3"
  },
  "language_info": {
   "codemirror_mode": {
    "name": "ipython",
    "version": 3
   },
   "file_extension": ".py",
   "mimetype": "text/x-python",
   "name": "python",
   "nbconvert_exporter": "python",
   "pygments_lexer": "ipython3",
   "version": "3.5.0"
  }
 },
 "nbformat": 4,
 "nbformat_minor": 0
}
